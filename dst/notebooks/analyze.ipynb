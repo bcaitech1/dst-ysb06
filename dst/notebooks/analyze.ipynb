{
 "metadata": {
  "language_info": {
   "codemirror_mode": {
    "name": "ipython",
    "version": 3
   },
   "file_extension": ".py",
   "mimetype": "text/x-python",
   "name": "python",
   "nbconvert_exporter": "python",
   "pygments_lexer": "ipython3",
   "version": "3.8.0"
  },
  "orig_nbformat": 2,
  "kernelspec": {
   "name": "python380jvsc74a57bd04a48ac2ebbee9fb58a573a6d63a367a79358f58e623a7bbd03a923bfaab69140",
   "display_name": "Python 3.8.0 64-bit ('.venv': venv)"
  },
  "metadata": {
   "interpreter": {
    "hash": "4a48ac2ebbee9fb58a573a6d63a367a79358f58e623a7bbd03a923bfaab69140"
   }
  }
 },
 "nbformat": 4,
 "nbformat_minor": 2,
 "cells": [
  {
   "source": [
    "# Dataset 분석 (EDA)\n",
    "\n",
    "## 모듈 Importing 및 데이터셋 불러오기"
   ],
   "cell_type": "markdown",
   "metadata": {}
  },
  {
   "cell_type": "code",
   "execution_count": 1,
   "metadata": {},
   "outputs": [],
   "source": [
    "from torch.utils.data import Dataset\n",
    "from collections import defaultdict\n",
    "import json\n",
    "\n",
    "train_path = \"/opt/ml/input/data/train_dataset\"\n",
    "test_path = \"/opt/ml/input/data/eval_dataset\""
   ]
  },
  {
   "cell_type": "code",
   "execution_count": 2,
   "metadata": {},
   "outputs": [],
   "source": [
    "with open(f\"{train_path}/train_dials.json\", 'r') as fr:\n",
    "    train_dial_data = json.load(fr)\n",
    "\n",
    "with open(f\"{train_path}/slot_meta.json\", 'r') as fr:\n",
    "    train_sltm_data = json.load(fr)\n",
    "\n",
    "with open(f\"{train_path}/ontology.json\", 'r') as fr:\n",
    "    otlg_data = json.load(fr)\n",
    "\n",
    "with open(f\"{test_path}/eval_dials.json\", 'r') as fr:\n",
    "    test_dial_data = json.load(fr)\n",
    "\n",
    "with open(f\"{test_path}/slot_meta.json\", 'r') as fr:\n",
    "    test_sltm_data = json.load(fr)"
   ]
  },
  {
   "source": [
    "## 데이터셋 전체 설명\n",
    "\n",
    "- 언어: 한국어\n",
    "- Meta Domain: 여행\n",
    "- Domain 갯수: 5\n",
    "- Slot: 45 (모든 Slot은 Informable Slot)\n",
    "\n",
    "※ 참고 사항\n",
    "- Informable Slot: 특정 Knowledge Base의 instance를 찾거나, 새로운 instance를 write하기 위해 User가 System에게 주거나 맥락에 의해 User가 의도할 수 있는 타입의 정보 (대화에 대한 제약 사항 및 DST의 target)\n",
    "- Requestable Slot: 특정 Knowledge Base의 instance가 선택된 이후, 추가로 정보를 요청할 수 있는 타입의 정보 (System이 User에게 제공)"
   ],
   "cell_type": "markdown",
   "metadata": {}
  },
  {
   "source": [
    "## Domain 분석\n",
    "\n",
    "Domain에 대한 정보는 각 Dialogue마다 1개씩\n",
    "\n",
    "### Train Dataset"
   ],
   "cell_type": "markdown",
   "metadata": {}
  },
  {
   "cell_type": "code",
   "execution_count": 3,
   "metadata": {},
   "outputs": [],
   "source": [
    "domains_counter = defaultdict(int)\n",
    "domain_combs_counter = defaultdict(int)\n",
    "\n",
    "train_domains_counter = defaultdict(int)\n",
    "train_domain_combs_counter = defaultdict(int)\n",
    "\n",
    "test_domains_counter = defaultdict(int)\n",
    "test_domain_combs_counter = defaultdict(int)"
   ]
  },
  {
   "cell_type": "code",
   "execution_count": 4,
   "metadata": {},
   "outputs": [],
   "source": [
    "for dialogue in train_dial_data:\n",
    "    domains = sorted(dialogue[\"domains\"])\n",
    "\n",
    "    for domain in domains:\n",
    "        domains_counter[domain] += 1\n",
    "        train_domains_counter[domain] += 1\n",
    "    \n",
    "    domain_comb = \", \".join(domains)\n",
    "    domain_combs_counter[domain_comb] += 1\n",
    "    train_domain_combs_counter[domain_comb] += 1\n"
   ]
  },
  {
   "cell_type": "code",
   "execution_count": 12,
   "metadata": {},
   "outputs": [
    {
     "output_type": "stream",
     "name": "stdout",
     "text": [
      "----개별 도메인: \ndefaultdict(<class 'int'>, {'관광': 3732, '식당': 4020, '지하철': 650, '택시': 2374, '숙소': 3802})\n\n----조합 도메인\n관광, 식당         \t:558\n관광             \t:420\n관광, 식당, 지하철    \t:239\n택시             \t:318\n식당, 택시         \t:415\n숙소, 택시         \t:405\n식당             \t:479\n숙소, 식당         \t:788\n숙소             \t:440\n관광, 택시         \t:341\n관광, 숙소, 식당     \t:834\n관광, 숙소         \t:457\n숙소, 식당, 택시     \t:255\n관광, 숙소, 지하철    \t:164\n관광, 식당, 택시     \t:313\n관광, 숙소, 택시     \t:327\n관광, 지하철        \t:79\n숙소, 식당, 지하철    \t:107\n식당, 지하철        \t:32\n숙소, 지하철        \t:25\n지하철            \t:4\n"
     ]
    }
   ],
   "source": [
    "print(\"----개별 도메인\", train_domains_counter, sep=\": \\n\")\n",
    "print()\n",
    "print(\"----조합 도메인\")\n",
    "for key in train_domain_combs_counter:\n",
    "    print(f\"{key:15}\\t: {train_domain_combs_counter[key]}\")"
   ]
  },
  {
   "source": [
    "### Test Dataset"
   ],
   "cell_type": "markdown",
   "metadata": {}
  },
  {
   "cell_type": "code",
   "execution_count": 6,
   "metadata": {},
   "outputs": [],
   "source": [
    "for dialogue in test_dial_data:\n",
    "    domains = sorted(dialogue[\"domains\"])\n",
    "\n",
    "    for domain in domains:\n",
    "        domains_counter[domain] += 1\n",
    "        test_domains_counter[domain] += 1\n",
    "    \n",
    "    domain_comb = \", \".join(domains)\n",
    "    domain_combs_counter[domain_comb] += 1\n",
    "    test_domain_combs_counter[domain_comb] += 1"
   ]
  },
  {
   "cell_type": "code",
   "execution_count": 7,
   "metadata": {},
   "outputs": [
    {
     "output_type": "stream",
     "name": "stdout",
     "text": [
      "----개별 도메인: \ndefaultdict(<class 'int'>, {'관광': 1141, '숙소': 1261, '식당': 1307, '지하철': 291, '택시': 568})\n\n----조합 도메인\n관광, 숙소         \t:105\n관광, 숙소, 식당     \t:384\n관광             \t:112\n관광, 식당, 지하철    \t:79\n식당             \t:137\n숙소, 식당         \t:171\n관광, 식당, 택시     \t:99\n숙소             \t:128\n숙소, 택시         \t:61\n관광, 숙소, 택시     \t:113\n관광, 숙소, 지하철    \t:78\n식당, 택시         \t:93\n관광, 식당         \t:110\n숙소, 식당, 지하철    \t:92\n관광, 택시         \t:40\n관광, 지하철        \t:21\n택시             \t:31\n숙소, 식당, 택시     \t:125\n식당, 지하철        \t:11\n숙소, 지하철        \t:4\n식당, 지하철, 택시    \t:6\n"
     ]
    }
   ],
   "source": [
    "print(\"----개별 도메인\", test_domains_counter, sep=\": \\n\")\n",
    "print()\n",
    "print(\"----조합 도메인\")\n",
    "for key in test_domain_combs_counter:\n",
    "    print(f\"{key:15}\\t: {test_domain_combs_counter[key]}\")"
   ]
  },
  {
   "cell_type": "code",
   "execution_count": 8,
   "metadata": {},
   "outputs": [
    {
     "output_type": "stream",
     "name": "stdout",
     "text": [
      "----개별 도메인: \ndefaultdict(<class 'int'>, {'관광': 4873, '식당': 5327, '지하철': 941, '택시': 2942, '숙소': 5063})\n\n----조합 도메인\n관광, 식당         \t:668\n관광             \t:532\n관광, 식당, 지하철    \t:318\n택시             \t:349\n식당, 택시         \t:508\n숙소, 택시         \t:466\n식당             \t:616\n숙소, 식당         \t:959\n숙소             \t:568\n관광, 택시         \t:381\n관광, 숙소, 식당     \t:1218\n관광, 숙소         \t:562\n숙소, 식당, 택시     \t:380\n관광, 숙소, 지하철    \t:242\n관광, 식당, 택시     \t:412\n관광, 숙소, 택시     \t:440\n관광, 지하철        \t:100\n숙소, 식당, 지하철    \t:199\n식당, 지하철        \t:43\n숙소, 지하철        \t:29\n지하철            \t:4\n식당, 지하철, 택시    \t:6\n"
     ]
    }
   ],
   "source": [
    "print(\"----개별 도메인\", domains_counter, sep=\": \\n\")\n",
    "print()\n",
    "print(\"----조합 도메인\")\n",
    "for key in domain_combs_counter:\n",
    "    print(f\"{key:15}\\t: {domain_combs_counter[key]}\")"
   ]
  }
 ]
}